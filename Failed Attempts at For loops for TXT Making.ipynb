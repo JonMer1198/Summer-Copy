version https://git-lfs.github.com/spec/v1
oid sha256:50d3240a7c432c2e95aecca23d75e6d963524368d665bb1f6a0c3c3706c87fca
size 22823
