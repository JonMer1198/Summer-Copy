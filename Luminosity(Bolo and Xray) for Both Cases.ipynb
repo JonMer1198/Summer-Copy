version https://git-lfs.github.com/spec/v1
oid sha256:23f3446b76e1ad667fffa40bdc73e00206550c0fb45340bce13b28f861830084
size 771329
