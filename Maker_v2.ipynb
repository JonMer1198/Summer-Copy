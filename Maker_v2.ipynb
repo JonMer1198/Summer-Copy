version https://git-lfs.github.com/spec/v1
oid sha256:9f32f824fe7641d29eccdf61d5977213e0d9224f16408a812886a35515e24bf2
size 875617
