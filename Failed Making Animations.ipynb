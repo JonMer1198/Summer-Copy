version https://git-lfs.github.com/spec/v1
oid sha256:2420c9e89d00f8199e408a449c92f1417c60ac1a0591d228cf5ac26f046ae40c
size 81703
