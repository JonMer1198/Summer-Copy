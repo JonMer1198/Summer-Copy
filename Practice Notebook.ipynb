version https://git-lfs.github.com/spec/v1
oid sha256:b4e5d059f546adf4ff28a41eb4618b7897416a6d92584a36ec12e53e608a3242
size 82186
