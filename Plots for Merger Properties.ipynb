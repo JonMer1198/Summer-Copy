version https://git-lfs.github.com/spec/v1
oid sha256:b589cff715dda61c9100782a0a6e25f58c689adde377cdff931216d708164ad1
size 462661
